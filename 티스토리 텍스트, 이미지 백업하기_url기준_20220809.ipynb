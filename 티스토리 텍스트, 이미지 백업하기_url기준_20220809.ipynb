{
 "cells": [
  {
   "cell_type": "code",
   "execution_count": 31,
   "id": "39cb16aa",
   "metadata": {},
   "outputs": [],
   "source": [
    "import requests\n",
    "from bs4 import BeautifulSoup\n",
    "from bs4 import Comment\n",
    "from PIL import Image\n",
    "import re\n",
    "import os\n",
    "\n",
    "\n",
    "#num 수정\n",
    "\n",
    "def extact_tistory_blog(url):\n",
    "\n",
    "    #url = 'https://mvmv3754.tistory.com/3'\n",
    "    response = requests.get(url)\n",
    "    soup = BeautifulSoup(response.text, 'lxml')\n",
    "\n",
    "\n",
    "    titles = soup.select_one('#content > div.inner > div.post-cover > div > h1').text ### 포스팅 글 제목\n",
    "    special_char = '\\/:*?\"<>|.'\n",
    "    for c in special_char:\n",
    "        if c in titles:\n",
    "            titles = titles.replace(c, '')  # 특수 문자 제거\n",
    "\n",
    "    date = soup.select_one('#content > div.inner > div.post-cover > div > span.meta > span.date') ### 등록일\n",
    "\n",
    "    #if not titles or not date :\n",
    "    #    continue\n",
    "\n",
    "    #print(titles.text)    \n",
    "    #print(date.text)\n",
    "\n",
    "\n",
    "    ### 포스팅 내용\n",
    "    entry_content = soup.find('div', {'class':'entry-content'})\n",
    "    #print(entry_content.get_text())\n",
    "\n",
    "    res = requests.get(url)\n",
    "    soup_img = BeautifulSoup(res.content, 'lxml')\n",
    "    imgs = soup_img.select('img[src^=https]')  # https 로 시작하는 src, '//'로 시작하는 src 제외시킴\n",
    "    #print(f'이미지 수 : {len(imgs)}')\n",
    "    #print(imgs)\n",
    "\n",
    "    # 저장 디렉토리 만들기\n",
    "    if not os.path.exists('tistoryBackup'):\n",
    "        os.mkdir('tistoryBackup')\n",
    "    if not os.path.exists('tistoryBackup/'+str(titles)):\n",
    "        os.makedirs('tistoryBackup/'+str(titles))\n",
    "\n",
    "    cnt = 1\n",
    "    for img in imgs:\n",
    "        img_url = img['src']\n",
    "\n",
    "        ## pillow.Image로 이미지 format 알아내기\n",
    "        imageObj = Image.open(requests.get(img_url, stream=True).raw)\n",
    "        img_format = imageObj.format\n",
    "        imge_size = imageObj.size\n",
    "        #print(f'img_url: {img_url}')\n",
    "        #print(f'img_format: {img_format}')\n",
    "        #print(f'imge_size: {imge_size}')\n",
    "        #print(f'os.path.basename(img_url): {os.path.basename(img_url)}')\n",
    "\n",
    "        res_img = requests.get(img_url).content\n",
    "        #print(f'len(이미지): {len(res_img)}')  # requests의 .content는 bytes 타입을 리턴함\n",
    "\n",
    "        if img_url.split('.')[-1] in ['png', 'jpg']:\n",
    "            img_name = str(titles) + '_' + str(cnt) + '_' + os.path.basename(img_url)\n",
    "        else:\n",
    "            img_name = str(titles) + '_' + str(cnt) + '_' + 'no_filename_img.' + img_format\n",
    "\n",
    "        #print(img_name)\n",
    "\n",
    "        if len(res_img) > 100:  # 이미지 용량이 00 bytes 이상인 것만\n",
    "            with open('./tistoryBackup/' + str(titles) + '/' + img_name, 'wb') as f:\n",
    "                f.write(res_img)\n",
    "            cnt += 1\n",
    "\n",
    "    title_content = str(titles) + '\\n' + date.text +  '\\n' + entry_content.get_text()\n",
    "    filename = str(titles) + '_tistory_title_content.txt'\n",
    "    with open('./tistoryBackup/' + str(titles) + '/' + filename, 'w', encoding='utf-8') as f:\n",
    "        f.write(title_content)\n",
    "\n",
    "    print(str(titles) + \"의 이미지, 텍스트 백업이 완료되었습니다.\")\n"
   ]
  },
  {
   "cell_type": "code",
   "execution_count": 32,
   "id": "834baf7d",
   "metadata": {},
   "outputs": [
    {
     "name": "stdout",
     "output_type": "stream",
     "text": [
      "망고포도(샤인머스캣)효능과 비싼이유의 이미지, 텍스트 백업이 완료되었습니다.\n"
     ]
    }
   ],
   "source": [
    "url ='https://mvmv3754.tistory.com/4'\n",
    "extact_tistory_blog(url)"
   ]
  },
  {
   "cell_type": "code",
   "execution_count": null,
   "id": "0c003744",
   "metadata": {},
   "outputs": [],
   "source": []
  }
 ],
 "metadata": {
  "kernelspec": {
   "display_name": "Python 3 (ipykernel)",
   "language": "python",
   "name": "python3"
  },
  "language_info": {
   "codemirror_mode": {
    "name": "ipython",
    "version": 3
   },
   "file_extension": ".py",
   "mimetype": "text/x-python",
   "name": "python",
   "nbconvert_exporter": "python",
   "pygments_lexer": "ipython3",
   "version": "3.9.7"
  }
 },
 "nbformat": 4,
 "nbformat_minor": 5
}
