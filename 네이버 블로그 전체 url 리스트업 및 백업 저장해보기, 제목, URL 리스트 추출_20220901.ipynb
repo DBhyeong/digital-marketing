{
 "cells": [
  {
   "cell_type": "code",
   "execution_count": 1,
   "id": "ba703830",
   "metadata": {},
   "outputs": [
    {
     "name": "stdout",
     "output_type": "stream",
     "text": [
      "https://blog.naver.com/PostView.naver?blogId=naver_search&logNo=222312223770\n",
      "뉴스 검색 결과에서 팩트체크 정보가 노출됩니다.\n"
     ]
    }
   ],
   "source": [
    "import requests\n",
    "from bs4 import BeautifulSoup\n",
    "import re\n",
    "import json\n",
    "import urllib.parse\n",
    "\n",
    "blogId= 'naver_search'  #블로그 아이디\n",
    "page = 5 #페이지 수\n",
    "\n",
    "blog_postlist_url = 'https://blog.naver.com/PostTitleListAsync.naver?blogId={}&viewdate=&currentPage={}&categoryNo=0&parentCategoryNo=0&countPerPage=30'.format(blogId, page)\n",
    "headers = { 'Accept-Language' : 'ko-KR,ko;q=0.9,en-US;q=0.8,en;q=0.7,zh-TW;q=0.6,zh;q=0.5',\n",
    "            'User-Agent': 'Mozilla/5.0 (Windows NT 10.0; Win64; x64) AppleWebKit/537.36 (KHTML, like Gecko) Chrome/100.0.4896.127 Safari/537.36',\n",
    "            'Accept-Encoding': 'gzip'\n",
    "}\n",
    "\n",
    "raw = requests.get(url=blog_postlist_url, headers=headers)\n",
    "html = BeautifulSoup(raw.text, 'lxml') \n",
    "postlists = json.loads(html.text) #json 형식으로 가져오기\n",
    "\n",
    "\n",
    "test_logNo = postlists['postList'][0]['logNo']  #LogNo만 보자\n",
    "title = postlists['postList'][0]['title']\n",
    "title = urllib.parse.unquote(title) #한글화\n",
    "title = title.replace(\"+\", \" \") #필터링\n",
    "title = title.replace(\",\", \"\") #필터링\n",
    "\n",
    "blog_url = 'https://blog.naver.com/PostView.naver?blogId={}&logNo={}'.format(blogId, test_logNo)\n",
    "print(blog_url) #url 리스트\n",
    "print(title) #url 리스트\n",
    "\n"
   ]
  },
  {
   "cell_type": "code",
   "execution_count": null,
   "id": "2d597627",
   "metadata": {},
   "outputs": [],
   "source": []
  }
 ],
 "metadata": {
  "kernelspec": {
   "display_name": "Python 3 (ipykernel)",
   "language": "python",
   "name": "python3"
  },
  "language_info": {
   "codemirror_mode": {
    "name": "ipython",
    "version": 3
   },
   "file_extension": ".py",
   "mimetype": "text/x-python",
   "name": "python",
   "nbconvert_exporter": "python",
   "pygments_lexer": "ipython3",
   "version": "3.9.7"
  }
 },
 "nbformat": 4,
 "nbformat_minor": 5
}
