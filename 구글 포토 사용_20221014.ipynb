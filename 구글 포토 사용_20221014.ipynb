{
 "cells": [
  {
   "cell_type": "code",
   "execution_count": 21,
   "id": "61651898",
   "metadata": {},
   "outputs": [
    {
     "name": "stdout",
     "output_type": "stream",
     "text": [
      "C:/Users/user/google-photo/client_secret.json-photoslibrary-v1-['https://www.googleapis.com/auth/photoslibrary', 'https://www.googleapis.com/auth/photoslibrary.sharing']\n"
     ]
    }
   ],
   "source": [
    "import os\n",
    "\n",
    "from google.auth.transport.requests import Request\n",
    "from google.oauth2.credentials import Credentials\n",
    "from google_auth_oauthlib.flow import Flow, InstalledAppFlow\n",
    "from googleapiclient.discovery import build\n",
    "\n",
    "def CreateService(clientSecretFile, apiName, apiVersion, scopes):\n",
    "    print(clientSecretFile, apiName, apiVersion, scopes, sep='-')\n",
    "    CLIENT_SECRET_FILE = clientSecretFile\n",
    "    API_SERVICE_NAME = apiName\n",
    "    API_VERSION = apiVersion\n",
    "\n",
    "    creds = None\n",
    "\n",
    "    credFile = f'token_{API_SERVICE_NAME}_{API_VERSION}.json'\n",
    "\n",
    "    if os.path.exists(credFile):\n",
    "        creds = Credentials.from_authorized_user_file(credFile, scopes)\n",
    "\n",
    "    # 유효한 credential이 없다면 login하도록 한다.\n",
    "    if not creds or not creds.valid:\n",
    "        if creds and creds.expired and creds.refresh_token:\n",
    "            creds.refresh(Request())\n",
    "        else:\n",
    "            flow = InstalledAppFlow.from_client_secrets_file(CLIENT_SECRET_FILE, scopes)\n",
    "            creds = flow.run_local_server(port=0)\n",
    "        # 성공하면 기록하도록 한다.\n",
    "        with open(credFile, 'w') as token:\n",
    "            token.write(creds.to_json())\n",
    "\n",
    "    # 서비스를 생성한다.\n",
    "    try:\n",
    "        service = build(apiName, apiVersion, credentials=creds, static_discovery=False)\n",
    "        return service\n",
    "\n",
    "    except Exception as e:\n",
    "        print('Exception: ', e)\n",
    "\n",
    "    return None\n",
    "    \n",
    "\n",
    "API_NAME = 'photoslibrary'\n",
    "API_VERSION = 'v1'\n",
    "CLIENT_SECRET_FILE = 'C:/Users/user/google-photo/client_secret.json'\n",
    "SCOPES = ['https://www.googleapis.com/auth/photoslibrary',\n",
    "          'https://www.googleapis.com/auth/photoslibrary.sharing']\n",
    "\n",
    "service = CreateService(CLIENT_SECRET_FILE, API_NAME, API_VERSION, SCOPES)\n",
    "\n",
    "#미디어 항목을 사용자의 라이브러리나 앨범에 업로드하려면 photoslibrary.appendonly또는 photoslibrary범위가 필요합니다."
   ]
  },
  {
   "cell_type": "code",
   "execution_count": 34,
   "id": "93cad683",
   "metadata": {},
   "outputs": [],
   "source": [
    "#구글 포토 API 사용해보기\n",
    "\n",
    "import requests\n",
    "import json\n",
    "import warnings\n",
    "\n",
    "warnings.filterwarnings('ignore')\n",
    "\n",
    "#service.albums().list().execute() \n",
    "\n",
    "\n",
    "upload_url= 'https://photoslibrary.googleapis.com/v1/uploads'\n",
    "\n",
    "token = json.load(open('token_photoslibrary_v1.json','rb'))\n",
    "\n",
    "headers= {\n",
    "    'Authorization':'Bearer '+ token['token'],\n",
    "    'Content-type':'application/octet-stream',\n",
    "    'X-Goog-Upload-Protocol':'raw',\n",
    "    'X-Goog-Upload-File-Name': \"totoro name.jpg\"\n",
    "    \n",
    "}\n",
    "\n",
    "image_file = \"C:/Users/user/Desktop/mail.naver.jpg\"\n",
    "filename = 'mail.naver'  #파일명\n",
    "\n",
    "img = open(image_file,'rb').read()\n",
    "\n",
    "\n",
    "response = requests.post(upload_url, data=img, headers = headers, verify=False)\n",
    "\n",
    "\n",
    "request_body ={\n",
    "    'newMediaItems':\n",
    "    [\n",
    "        {\n",
    "            'description': filename,\n",
    "            'simpleMediaItem': \n",
    "            {\n",
    "                'uploadToken': response.content.decode('utf-8')\n",
    "            }\n",
    "        }\n",
    "    ] \n",
    "\n",
    "}\n",
    "\n",
    "\n",
    "upload_response = service.mediaItems().batchCreate(body=request_body).execute()\n"
   ]
  },
  {
   "cell_type": "code",
   "execution_count": 35,
   "id": "5bb747e6",
   "metadata": {},
   "outputs": [
    {
     "name": "stdout",
     "output_type": "stream",
     "text": [
      "{'newMediaItemResults': [{'uploadToken': 'CAISiQMA9BP/VQa69GxlYkZxJCNfdZCatHL77dO0XM+uMepvTG5fPnaWhqfCiAVt1UGlP3fFZAq+sowmLKnfgWOKQOVIckV9O/n4lqeLcM6HHatw7drIoAjaKD5LBLFlltA3Km+cnnn6R6p8iY5tJKlgXu8lCP05qNCBIOyXE7qegLnxPDu76mqBm9iKJmkMOtgc/N8LoAt+Uul+TlxNutgjVjOzlVGSZkSjTymA7Ll/xSiqqXwYb0UOQOLNGNzl8OCf0b9VN/KLH646lSh5I2gqHFefVBP38kyvqJqpOjuFSJw/McNvMyyZWVQNu3yp1M5q3kHi8HEz01D7uiu6CEtBajiA4QmomhXvrGhJ8op+sYNA+FWsgMPtuFgpGyCesYxLZP/A5SmGCR9ZYLfJT5xhA4h0yzJJ20Bv522k1ZfLS/SJ14ziZITMXCMO9xV7UCVzFc36g/WNlhXKPu8mGKbqOoQCEpTNdD0gu+pvT9B2Br95IYcarehGWFGExkmEb1S+lbMuXhAD8HjDouc', 'status': {'message': 'Success'}, 'mediaItem': {'id': 'AI9aVGEZHB4RFxTwMRaVMmfJOc0QMhRKNM51ZRMsAdbyt6MvMKZ5t9CvdLqA-09abxzlx3WRZELnYV9-w_RIMmqAc9RKrk4pHQ', 'description': 'mail.naver', 'productUrl': 'https://photos.google.com/lr/photo/AI9aVGEZHB4RFxTwMRaVMmfJOc0QMhRKNM51ZRMsAdbyt6MvMKZ5t9CvdLqA-09abxzlx3WRZELnYV9-w_RIMmqAc9RKrk4pHQ', 'mimeType': 'image/jpeg', 'mediaMetadata': {'creationTime': '2022-10-15T00:28:56Z', 'width': '200', 'height': '267'}, 'filename': 'totoro name.jpg'}}]}\n"
     ]
    }
   ],
   "source": [
    "print(upload_response) #업로드 확인 완료"
   ]
  },
  {
   "cell_type": "code",
   "execution_count": null,
   "id": "8e95fd08",
   "metadata": {},
   "outputs": [],
   "source": []
  }
 ],
 "metadata": {
  "kernelspec": {
   "display_name": "Python 3 (ipykernel)",
   "language": "python",
   "name": "python3"
  },
  "language_info": {
   "codemirror_mode": {
    "name": "ipython",
    "version": 3
   },
   "file_extension": ".py",
   "mimetype": "text/x-python",
   "name": "python",
   "nbconvert_exporter": "python",
   "pygments_lexer": "ipython3",
   "version": "3.9.7"
  }
 },
 "nbformat": 4,
 "nbformat_minor": 5
}
