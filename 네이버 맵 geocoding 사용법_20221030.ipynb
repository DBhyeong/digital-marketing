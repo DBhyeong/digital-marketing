{
 "cells": [
  {
   "cell_type": "code",
   "execution_count": 15,
   "id": "93d2b056",
   "metadata": {},
   "outputs": [
    {
     "data": {
      "text/plain": [
       "{'status': 'OK',\n",
       " 'meta': {'totalCount': 1, 'page': 1, 'count': 1},\n",
       " 'addresses': [{'roadAddress': '서울특별시 금천구',\n",
       "   'jibunAddress': '서울특별시 금천구',\n",
       "   'englishAddress': 'Geumcheon-gu, Seoul, Republic of Korea',\n",
       "   'addressElements': [{'types': ['SIDO'],\n",
       "     'longName': '서울특별시',\n",
       "     'shortName': '서울특별시',\n",
       "     'code': ''},\n",
       "    {'types': ['SIGUGUN'], 'longName': '금천구', 'shortName': '금천구', 'code': ''},\n",
       "    {'types': ['DONGMYUN'], 'longName': '', 'shortName': '', 'code': ''},\n",
       "    {'types': ['RI'], 'longName': '', 'shortName': '', 'code': ''},\n",
       "    {'types': ['ROAD_NAME'], 'longName': '', 'shortName': '', 'code': ''},\n",
       "    {'types': ['BUILDING_NUMBER'],\n",
       "     'longName': '',\n",
       "     'shortName': '',\n",
       "     'code': ''},\n",
       "    {'types': ['BUILDING_NAME'], 'longName': '', 'shortName': '', 'code': ''},\n",
       "    {'types': ['LAND_NUMBER'], 'longName': '', 'shortName': '', 'code': ''},\n",
       "    {'types': ['POSTAL_CODE'], 'longName': '', 'shortName': '', 'code': ''}],\n",
       "   'x': '126.8955105',\n",
       "   'y': '37.4568644',\n",
       "   'distance': 0.0}],\n",
       " 'errorMessage': ''}"
      ]
     },
     "execution_count": 15,
     "metadata": {},
     "output_type": "execute_result"
    }
   ],
   "source": [
    "import urllib.request\n",
    "import json\n",
    "from pandas.io.json import json_normalize\n",
    "import hashlib\n",
    "import hmac\n",
    "import base64\n",
    "import pandas as pd\n",
    "import requests\n",
    "import pandas as pd\n",
    "import numpy as np\n",
    "\n",
    "\n",
    "# NCP 콘솔에서 복사한 클라이언트ID와 클라이언트Secret 값\n",
    "\n",
    "#주소 검색 API는 지번, 도로명를 질의어로 사용해서 주소 정보를 검색\n",
    "\n",
    "\n",
    "query='서울특별시 금천구'\n",
    "\n",
    "client_id = \"hucm5y3h2c\"\n",
    "client_secret = \"oqdYJSjWwyFqDf3CbJ4TBZM5e2rDJPqBOFaCRbGH\"\n",
    "\n",
    "url = 'https://naveropenapi.apigw.ntruss.com/map-geocode/v2/geocode?query={}'.format(query)\n",
    "\n",
    "\n",
    "headers = {\n",
    "    \"X-NCP-APIGW-API-KEY-ID\": client_id,\n",
    "    \"X-NCP-APIGW-API-KEY\": client_secret,\n",
    "}\n",
    "\n",
    "res = requests.get(url, headers=headers)\n",
    "res.json()"
   ]
  },
  {
   "cell_type": "code",
   "execution_count": 9,
   "id": "9e7c70b9",
   "metadata": {},
   "outputs": [
    {
     "data": {
      "text/plain": [
       "'{\"status\":\"OK\",\"meta\":{\"totalCount\":0,\"count\":0},\"addresses\":[],\"errorMessage\":\"\"}'"
      ]
     },
     "execution_count": 9,
     "metadata": {},
     "output_type": "execute_result"
    }
   ],
   "source": []
  },
  {
   "cell_type": "code",
   "execution_count": null,
   "id": "6b129ae2",
   "metadata": {},
   "outputs": [],
   "source": []
  }
 ],
 "metadata": {
  "kernelspec": {
   "display_name": "Python 3 (ipykernel)",
   "language": "python",
   "name": "python3"
  },
  "language_info": {
   "codemirror_mode": {
    "name": "ipython",
    "version": 3
   },
   "file_extension": ".py",
   "mimetype": "text/x-python",
   "name": "python",
   "nbconvert_exporter": "python",
   "pygments_lexer": "ipython3",
   "version": "3.9.7"
  }
 },
 "nbformat": 4,
 "nbformat_minor": 5
}
