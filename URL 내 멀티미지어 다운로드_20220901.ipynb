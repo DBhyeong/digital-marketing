{
 "cells": [
  {
   "cell_type": "code",
   "execution_count": 3,
   "id": "d5ee3387",
   "metadata": {},
   "outputs": [
    {
     "name": "stdout",
     "output_type": "stream",
     "text": [
      "70의 멀티미디어 다운로드 완료되었습니다.\n"
     ]
    }
   ],
   "source": [
    "import  urllib.request\n",
    "\n",
    "\n",
    "f = open ('C:/Users/user/raw/down/test_urls.txt', 'r', encoding='utf-8')\n",
    "\n",
    "\n",
    "url = f.readlines()\n",
    "\n",
    "n= 1\n",
    "\n",
    "for i in url :\n",
    "    try :\n",
    "        urllib.request.urlretrieve(i, \"C:/Users/user/raw/down/\"+str(n)+\".hwp\")   #png 아닌 jpg 파일로 저장\n",
    "    except :\n",
    "        pass\n",
    "    n = n+1\n",
    "\n",
    "print(str(n) + \"의 멀티미디어 다운로드 완료되었습니다.\")"
   ]
  },
  {
   "cell_type": "code",
   "execution_count": null,
   "id": "d9101542",
   "metadata": {},
   "outputs": [],
   "source": []
  }
 ],
 "metadata": {
  "kernelspec": {
   "display_name": "Python 3 (ipykernel)",
   "language": "python",
   "name": "python3"
  },
  "language_info": {
   "codemirror_mode": {
    "name": "ipython",
    "version": 3
   },
   "file_extension": ".py",
   "mimetype": "text/x-python",
   "name": "python",
   "nbconvert_exporter": "python",
   "pygments_lexer": "ipython3",
   "version": "3.9.7"
  }
 },
 "nbformat": 4,
 "nbformat_minor": 5
}
