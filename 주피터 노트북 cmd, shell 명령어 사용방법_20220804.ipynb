{
 "cells": [
  {
   "cell_type": "code",
   "execution_count": 2,
   "id": "50b5c820",
   "metadata": {},
   "outputs": [
    {
     "name": "stdout",
     "output_type": "stream",
     "text": [
      "C:\\Users\\user\n",
      "\n"
     ]
    }
   ],
   "source": [
    "import os\n",
    "import subprocess\n",
    "\n",
    "path = os.popen('cd').read() #os시 출력되는 내용 확인\n",
    "print(path) #확인\n",
    "\n",
    "cmd = ['dir'] #명령어\n",
    "\n",
    "#주요 인코딩 utf-8, utf-8-sig, cp949\n",
    "# 'utf-8' codec can't decode byte 0xb5 in position 3: invalid start byte \n",
    "# 해당 에러가 나올시 encoding을 cp949로 변경해서 넣어주면 출력된다.\n",
    "\n",
    "result = subprocess.run(cmd, shell=True, capture_output=True, encoding='cp949')  #명령어입력\n",
    "\n",
    "#print(result.stdout) #결과확인"
   ]
  },
  {
   "cell_type": "code",
   "execution_count": null,
   "id": "a0127bcc",
   "metadata": {},
   "outputs": [],
   "source": []
  }
 ],
 "metadata": {
  "kernelspec": {
   "display_name": "Python 3 (ipykernel)",
   "language": "python",
   "name": "python3"
  },
  "language_info": {
   "codemirror_mode": {
    "name": "ipython",
    "version": 3
   },
   "file_extension": ".py",
   "mimetype": "text/x-python",
   "name": "python",
   "nbconvert_exporter": "python",
   "pygments_lexer": "ipython3",
   "version": "3.9.7"
  }
 },
 "nbformat": 4,
 "nbformat_minor": 5
}
