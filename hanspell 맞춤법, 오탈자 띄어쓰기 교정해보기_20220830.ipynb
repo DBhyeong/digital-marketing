{
 "cells": [
  {
   "cell_type": "code",
   "execution_count": 20,
   "id": "d255e5b6",
   "metadata": {},
   "outputs": [
    {
     "name": "stdout",
     "output_type": "stream",
     "text": [
      "완료\n"
     ]
    }
   ],
   "source": [
    "from hanspell import spell_checker\n",
    "\n",
    "\n",
    "f = open('C:/Users/user/Documents/카카오톡 받은 파일/소설 채만식-순공_있는_일요일-문장.txt', 'r', encoding='utf-8-sig')\n",
    "\n",
    "f_renew = open('C:/Users/user/Documents/카카오톡 받은 파일/소설 채만식-순공_있는_일요일-문장_수정용.txt', 'w', encoding='utf-8-sig')\n",
    "\n",
    "\n",
    "text =f.read()\n",
    "\n",
    "#len(text) #2만자\n",
    "\n",
    "\n",
    "text_list = text.split('.')  #마침표 문장에 따라 리스트로 정리\n",
    "\n",
    "\n",
    "for i in text_list :\n",
    "    result = spell_checker.check(i)\n",
    "    dict_result =  result.as_dict()  #dict 넣기\n",
    "    #print(dict_result) #확인\n",
    "    \n",
    "    original = dict_result['original'] #원문\n",
    "    #print(original)  #원문\n",
    "    \n",
    "    #print(\"---------------------------------------------------------------------\")\n",
    "    checked = dict_result['checked']  #수정 \n",
    "    \n",
    "    #print(checked)  #수정용\n",
    "    \n",
    "    checked = str(checked) + \".\" #끝에 마침표까지\n",
    "    \n",
    "    f_renew.write(str(checked) + '\\n' + '\\n')  #띄어쓰기\n",
    "    \n",
    "f.close()\n",
    "\n",
    "f_renew.close()\n",
    "    \n",
    "    \n",
    "print(\"완료\")\n",
    "    "
   ]
  },
  {
   "cell_type": "code",
   "execution_count": null,
   "id": "69ddb4a3",
   "metadata": {},
   "outputs": [],
   "source": [
    "result = spell_checker.check(content)\n",
    "\n",
    "print(result.as_dict())  #결과물 전문\n",
    "print(result.result) #결과 요청 성공 여부 출력\n",
    "print(result.errors) #결과 내 에러 건수 출력"
   ]
  }
 ],
 "metadata": {
  "kernelspec": {
   "display_name": "Python 3 (ipykernel)",
   "language": "python",
   "name": "python3"
  },
  "language_info": {
   "codemirror_mode": {
    "name": "ipython",
    "version": 3
   },
   "file_extension": ".py",
   "mimetype": "text/x-python",
   "name": "python",
   "nbconvert_exporter": "python",
   "pygments_lexer": "ipython3",
   "version": "3.9.7"
  }
 },
 "nbformat": 4,
 "nbformat_minor": 5
}
