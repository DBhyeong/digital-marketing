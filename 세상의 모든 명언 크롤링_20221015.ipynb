{
 "cells": [
  {
   "cell_type": "code",
   "execution_count": 8,
   "id": "1e8f573a",
   "metadata": {
    "scrolled": false
   },
   "outputs": [
    {
     "name": "stdout",
     "output_type": "stream",
     "text": [
      "33의 페이지를 크롤링을 시작합니다.\n",
      "33의 페이지 이미지 저장완료\n",
      "33의 페이지 텍스트 저장완료\n",
      "33의 페이지를 완료했습니다.\n",
      "최종완료\n"
     ]
    }
   ],
   "source": [
    "import requests\n",
    "from bs4 import BeautifulSoup\n",
    "import re\n",
    "import time\n",
    "import os \n",
    "import urllib.request\n",
    "\n",
    "for i in range(33, 12800) : #33부터 12800\n",
    "    url = 'http://api.snsday.com/page2.php?cid=' + str(i)\n",
    "\n",
    "    headers = { 'Accept-Language' : 'ko-KR,ko;q=0.9,en-US;q=0.8,en;q=0.7,zh-TW;q=0.6,zh;q=0.5',\n",
    "                'User-Agent': 'Mozilla/5.0 (Windows NT 10.0; Win64; x64) AppleWebKit/537.36 (KHTML, like Gecko) Chrome/100.0.4896.127 Safari/537.36',\n",
    "                'Accept-Encoding': 'gzip'\n",
    "    }\n",
    "\n",
    "    #f = open(str(directory)+\"/\"+str(blogId)+\"_\"+str(page)+\"_.txt\", 'w', encoding='utf-8-sig')  #메모장 열기\n",
    "\n",
    "    raw = requests.get(url=url, headers=headers, verify=False)\n",
    "    html = BeautifulSoup(raw.text, 'html.parser')\n",
    "    \n",
    "    #print(html)\n",
    "\n",
    "    bookimage = html.find('div', {'class' : 'imgList'}).find('img')['src']  #이미지 주소\n",
    "    \n",
    "    if not bookimage == '' : #해당 문자열이 아닐 경우 이미지 다운로드 및 메모장 열기 진행\n",
    "        print(str(i) + \"의 페이지를 크롤링을 시작합니다.\")\n",
    "        directory = 'C:/Users/user/raw/down/snsday/'+str(i)\n",
    "\n",
    "        try:\n",
    "            if not os.path.exists(directory):\n",
    "                os.makedirs(directory)  #폴더 없으면 생성\n",
    "        except OSError:\n",
    "            print(\"Error: Failed to create the directory.\")\n",
    "        \n",
    "        content = html.find('div', {'class' : 'content'}).text #본문\n",
    "        urllib.request.urlretrieve(bookimage, str(directory) + \"/\" +str(i)+\".jpg\")  #이미지 다운로드\n",
    "        print(str(i) + \"의 페이지 이미지 저장완료\")\n",
    "        f = open(str(directory) + \"/\" +str(i)+\".txt\", 'w', encoding='utf-8-sig')  #메모장 열기\n",
    "        f.write(str(content) + '\\n') \n",
    "        f.close()\n",
    "        print(str(i) + \"의 페이지 텍스트 저장완료\")\n",
    "    else :\n",
    "        pass  #아니면 패스\n",
    "\n",
    "    print(str(i) + \"의 페이지를 완료했습니다.\")\n",
    "    time.sleep(1) #1초\n",
    "    \n",
    "print(\"최종완료\")"
   ]
  },
  {
   "cell_type": "code",
   "execution_count": 5,
   "id": "5eccd514",
   "metadata": {},
   "outputs": [
    {
     "data": {
      "text/plain": [
       "''"
      ]
     },
     "execution_count": 5,
     "metadata": {},
     "output_type": "execute_result"
    }
   ],
   "source": []
  },
  {
   "cell_type": "code",
   "execution_count": null,
   "id": "8ab6a72a",
   "metadata": {},
   "outputs": [],
   "source": []
  }
 ],
 "metadata": {
  "kernelspec": {
   "display_name": "Python 3 (ipykernel)",
   "language": "python",
   "name": "python3"
  },
  "language_info": {
   "codemirror_mode": {
    "name": "ipython",
    "version": 3
   },
   "file_extension": ".py",
   "mimetype": "text/x-python",
   "name": "python",
   "nbconvert_exporter": "python",
   "pygments_lexer": "ipython3",
   "version": "3.9.7"
  }
 },
 "nbformat": 4,
 "nbformat_minor": 5
}
