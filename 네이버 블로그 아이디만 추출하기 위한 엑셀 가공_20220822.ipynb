{
 "cells": [
  {
   "cell_type": "code",
   "execution_count": 86,
   "id": "6a328eb5",
   "metadata": {},
   "outputs": [
    {
     "data": {
      "text/html": [
       "<div>\n",
       "<style scoped>\n",
       "    .dataframe tbody tr th:only-of-type {\n",
       "        vertical-align: middle;\n",
       "    }\n",
       "\n",
       "    .dataframe tbody tr th {\n",
       "        vertical-align: top;\n",
       "    }\n",
       "\n",
       "    .dataframe thead th {\n",
       "        text-align: right;\n",
       "    }\n",
       "</style>\n",
       "<table border=\"1\" class=\"dataframe\">\n",
       "  <thead>\n",
       "    <tr style=\"text-align: right;\">\n",
       "      <th></th>\n",
       "      <th>keyword</th>\n",
       "      <th>제목</th>\n",
       "      <th>URL</th>\n",
       "    </tr>\n",
       "  </thead>\n",
       "  <tbody>\n",
       "    <tr>\n",
       "      <th>0</th>\n",
       "      <td>차량용핸드폰거치대</td>\n",
       "      <td>차량용 핸드폰 거치대 떨어짐 완벽방지</td>\n",
       "      <td>https://blog.naver.com/isubass?Redirect=Log&amp;lo...</td>\n",
       "    </tr>\n",
       "    <tr>\n",
       "      <th>1</th>\n",
       "      <td>차량용핸드폰거치대</td>\n",
       "      <td>차량용 핸드폰 거치대 차모아에서 구입한 후기</td>\n",
       "      <td>https://blog.naver.com/pell419?Redirect=Log&amp;lo...</td>\n",
       "    </tr>\n",
       "    <tr>\n",
       "      <th>2</th>\n",
       "      <td>차량용핸드폰거치대</td>\n",
       "      <td>갤럭시 폴드3 차량용 핸드폰 거치대 무선 고속충전까지 가능!</td>\n",
       "      <td>https://blog.naver.com/people0210?Redirect=Log...</td>\n",
       "    </tr>\n",
       "    <tr>\n",
       "      <th>3</th>\n",
       "      <td>차량용핸드폰거치대</td>\n",
       "      <td>차량용 핸드폰 거치대 차모아 강력한 고정력</td>\n",
       "      <td>https://blog.naver.com/gerrans?Redirect=Log&amp;lo...</td>\n",
       "    </tr>\n",
       "    <tr>\n",
       "      <th>4</th>\n",
       "      <td>차량용핸드폰거치대</td>\n",
       "      <td>차량용핸드폰거치대 간편한 차모아!</td>\n",
       "      <td>https://blog.naver.com/hyerimelove?Redirect=Lo...</td>\n",
       "    </tr>\n",
       "  </tbody>\n",
       "</table>\n",
       "</div>"
      ],
      "text/plain": [
       "     keyword                                 제목  \\\n",
       "0  차량용핸드폰거치대               차량용 핸드폰 거치대 떨어짐 완벽방지   \n",
       "1  차량용핸드폰거치대           차량용 핸드폰 거치대 차모아에서 구입한 후기   \n",
       "2  차량용핸드폰거치대  갤럭시 폴드3 차량용 핸드폰 거치대 무선 고속충전까지 가능!   \n",
       "3  차량용핸드폰거치대            차량용 핸드폰 거치대 차모아 강력한 고정력   \n",
       "4  차량용핸드폰거치대                 차량용핸드폰거치대 간편한 차모아!   \n",
       "\n",
       "                                                 URL  \n",
       "0  https://blog.naver.com/isubass?Redirect=Log&lo...  \n",
       "1  https://blog.naver.com/pell419?Redirect=Log&lo...  \n",
       "2  https://blog.naver.com/people0210?Redirect=Log...  \n",
       "3  https://blog.naver.com/gerrans?Redirect=Log&lo...  \n",
       "4  https://blog.naver.com/hyerimelove?Redirect=Lo...  "
      ]
     },
     "execution_count": 86,
     "metadata": {},
     "output_type": "execute_result"
    }
   ],
   "source": [
    "import os\n",
    "import pandas as pd\n",
    "import re\n",
    "blog_content_result_1 = pd.read_csv('C:/Users/tera/Desktop/blog_content_result.csv', encoding ='utf-8-sig')\n",
    "blog_content_result_2 = pd.read_csv('C:/Users/tera/Desktop/blog_content_result_2.csv', encoding ='utf-8-sig')\n",
    "\n",
    "\n",
    "\n",
    "blog_content_result = pd.concat([blog_content_result_1, blog_content_result_2], ignore_index=True) # 엑셀 csv 파일 합치기\n",
    "blog_content_result.head()"
   ]
  },
  {
   "cell_type": "code",
   "execution_count": 87,
   "id": "c68d2c4b",
   "metadata": {},
   "outputs": [
    {
     "name": "stdout",
     "output_type": "stream",
     "text": [
      "4900\n",
      "5400\n",
      "10300\n"
     ]
    }
   ],
   "source": [
    "print(len(blog_content_result_1))\n",
    "print(len(blog_content_result_2))\n",
    "print(len(blog_content_result))"
   ]
  },
  {
   "cell_type": "code",
   "execution_count": 90,
   "id": "b561f31d",
   "metadata": {},
   "outputs": [
    {
     "data": {
      "text/html": [
       "<div>\n",
       "<style scoped>\n",
       "    .dataframe tbody tr th:only-of-type {\n",
       "        vertical-align: middle;\n",
       "    }\n",
       "\n",
       "    .dataframe tbody tr th {\n",
       "        vertical-align: top;\n",
       "    }\n",
       "\n",
       "    .dataframe thead th {\n",
       "        text-align: right;\n",
       "    }\n",
       "</style>\n",
       "<table border=\"1\" class=\"dataframe\">\n",
       "  <thead>\n",
       "    <tr style=\"text-align: right;\">\n",
       "      <th></th>\n",
       "      <th>keyword</th>\n",
       "      <th>제목</th>\n",
       "      <th>URL</th>\n",
       "      <th>blogId</th>\n",
       "      <th>blog_link</th>\n",
       "    </tr>\n",
       "  </thead>\n",
       "  <tbody>\n",
       "    <tr>\n",
       "      <th>0</th>\n",
       "      <td>차량용핸드폰거치대</td>\n",
       "      <td>차량용 핸드폰 거치대 떨어짐 완벽방지</td>\n",
       "      <td>https://blog.naver.com/isubass?Redirect=Log&amp;lo...</td>\n",
       "      <td>isubass</td>\n",
       "      <td>https://blog.naver.com/isubass</td>\n",
       "    </tr>\n",
       "    <tr>\n",
       "      <th>1</th>\n",
       "      <td>차량용핸드폰거치대</td>\n",
       "      <td>차량용 핸드폰 거치대 차모아에서 구입한 후기</td>\n",
       "      <td>https://blog.naver.com/pell419?Redirect=Log&amp;lo...</td>\n",
       "      <td>pell419</td>\n",
       "      <td>https://blog.naver.com/pell419</td>\n",
       "    </tr>\n",
       "    <tr>\n",
       "      <th>2</th>\n",
       "      <td>차량용핸드폰거치대</td>\n",
       "      <td>갤럭시 폴드3 차량용 핸드폰 거치대 무선 고속충전까지 가능!</td>\n",
       "      <td>https://blog.naver.com/people0210?Redirect=Log...</td>\n",
       "      <td>people0210</td>\n",
       "      <td>https://blog.naver.com/people0210</td>\n",
       "    </tr>\n",
       "    <tr>\n",
       "      <th>3</th>\n",
       "      <td>차량용핸드폰거치대</td>\n",
       "      <td>차량용 핸드폰 거치대 차모아 강력한 고정력</td>\n",
       "      <td>https://blog.naver.com/gerrans?Redirect=Log&amp;lo...</td>\n",
       "      <td>gerrans</td>\n",
       "      <td>https://blog.naver.com/gerrans</td>\n",
       "    </tr>\n",
       "    <tr>\n",
       "      <th>4</th>\n",
       "      <td>차량용핸드폰거치대</td>\n",
       "      <td>차량용핸드폰거치대 간편한 차모아!</td>\n",
       "      <td>https://blog.naver.com/hyerimelove?Redirect=Lo...</td>\n",
       "      <td>hyerimelove</td>\n",
       "      <td>https://blog.naver.com/hyerimelove</td>\n",
       "    </tr>\n",
       "  </tbody>\n",
       "</table>\n",
       "</div>"
      ],
      "text/plain": [
       "     keyword                                 제목  \\\n",
       "0  차량용핸드폰거치대               차량용 핸드폰 거치대 떨어짐 완벽방지   \n",
       "1  차량용핸드폰거치대           차량용 핸드폰 거치대 차모아에서 구입한 후기   \n",
       "2  차량용핸드폰거치대  갤럭시 폴드3 차량용 핸드폰 거치대 무선 고속충전까지 가능!   \n",
       "3  차량용핸드폰거치대            차량용 핸드폰 거치대 차모아 강력한 고정력   \n",
       "4  차량용핸드폰거치대                 차량용핸드폰거치대 간편한 차모아!   \n",
       "\n",
       "                                                 URL       blogId  \\\n",
       "0  https://blog.naver.com/isubass?Redirect=Log&lo...      isubass   \n",
       "1  https://blog.naver.com/pell419?Redirect=Log&lo...      pell419   \n",
       "2  https://blog.naver.com/people0210?Redirect=Log...   people0210   \n",
       "3  https://blog.naver.com/gerrans?Redirect=Log&lo...      gerrans   \n",
       "4  https://blog.naver.com/hyerimelove?Redirect=Lo...  hyerimelove   \n",
       "\n",
       "                            blog_link  \n",
       "0      https://blog.naver.com/isubass  \n",
       "1      https://blog.naver.com/pell419  \n",
       "2   https://blog.naver.com/people0210  \n",
       "3      https://blog.naver.com/gerrans  \n",
       "4  https://blog.naver.com/hyerimelove  "
      ]
     },
     "execution_count": 90,
     "metadata": {},
     "output_type": "execute_result"
    }
   ],
   "source": [
    "blog_content_result['blogId'] = '' #컬럼 생성\n",
    "\n",
    "for i in range(0, len(blog_content_result)) :\n",
    "    try :\n",
    "        blogId = blogId = re.search('https://blog.naver.com/(.+?)?Redirect=', blog_content_result.loc[i, 'URL']).group(1)\n",
    "        blogId = blogId.replace('?', '')\n",
    "        blog_content_result['blogId'].loc[i] = blogId  # (주의!) 컬럼에 넣을 시엔 반드시 반대로 해야된다.\n",
    "    except :\n",
    "        blogId = None\n",
    "        blog_content_result['blogId'].loc[i] = blogId #(주의!) 컬럼에 넣을 시엔 반대로 해야된다. #네이버 블로그가 아닐시 null값 처리\n",
    "\n",
    "blog_content_result['blog_link'] = 'https://blog.naver.com/' + blog_content_result['blogId']  #네이버 블로그 주소        \n",
    "\n",
    "\n",
    "\n",
    "blog_content_result.head()"
   ]
  },
  {
   "cell_type": "code",
   "execution_count": 93,
   "id": "84ccb7d7",
   "metadata": {},
   "outputs": [
    {
     "data": {
      "text/plain": [
       "255"
      ]
     },
     "execution_count": 93,
     "metadata": {},
     "output_type": "execute_result"
    }
   ],
   "source": [
    "blog_content_result['blogId'].isnull().sum()"
   ]
  },
  {
   "cell_type": "code",
   "execution_count": 101,
   "id": "39aca09b",
   "metadata": {},
   "outputs": [],
   "source": [
    "f = open('C:/Users/tera/Desktop/TEST/blog_id_lists.csv', 'w', encoding='utf-8-sig') # 엑셀파일에 넣기\n",
    "f.write(\"blogIds\"+ '\\n')\n",
    "\n",
    "flg_is_null = blog_content_result['blogId'].isnull()\n",
    "\n",
    "for trg in list(blog_content_result.loc[~flg_is_null, \"blogId\"].unique()) :  #null 값을 제외한 (네이버 블로그를 제외한), 중복 처리 이후 블로그 ID만 긁자(일방문자 보기 위함)\n",
    "    f.write(str(trg)+'\\n')\n",
    "    \n",
    "f.close()   "
   ]
  },
  {
   "cell_type": "code",
   "execution_count": 97,
   "id": "58319008",
   "metadata": {},
   "outputs": [
    {
     "data": {
      "text/plain": [
       "10300"
      ]
     },
     "execution_count": 97,
     "metadata": {},
     "output_type": "execute_result"
    }
   ],
   "source": []
  },
  {
   "cell_type": "code",
   "execution_count": null,
   "id": "9faa80fd",
   "metadata": {},
   "outputs": [],
   "source": []
  }
 ],
 "metadata": {
  "kernelspec": {
   "display_name": "Python 3 (ipykernel)",
   "language": "python",
   "name": "python3"
  },
  "language_info": {
   "codemirror_mode": {
    "name": "ipython",
    "version": 3
   },
   "file_extension": ".py",
   "mimetype": "text/x-python",
   "name": "python",
   "nbconvert_exporter": "python",
   "pygments_lexer": "ipython3",
   "version": "3.9.12"
  }
 },
 "nbformat": 4,
 "nbformat_minor": 5
}
