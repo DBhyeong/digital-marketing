{
 "cells": [
  {
   "cell_type": "code",
   "execution_count": 6,
   "id": "68059599",
   "metadata": {},
   "outputs": [],
   "source": [
    "import  re\n",
    "\n",
    "# https://wikidocs.net/4308 정규식 내용\n",
    "# https://wikidocs.net/4309 정규식 상세\n",
    "# https://software-creator.tistory.com/32#:~:text=find%20all%20%2D%20%ED%8C%A8%ED%84%B4%EA%B3%BC%20%EC%9D%BC%EC%B9%98,%5D%2B%20%ED%8C%A8%ED%84%B4%EC%9D%84%20%EC%93%B0%EB%A9%B4%20%EB%90%9C%EB%8B%A4.&text=m%20%3D%20re.search('%5Ba%2DzA%2DZ,%ED%95%98%EB%8A%94%20%EB%AC%B8%EC%9E%90%EC%97%B4%EC%9D%B4%20%EC%9E%88%EB%8A%94%20%EA%B2%BD%EC%9A%B0.\n",
    "# https://codingspooning.tistory.com/138\n",
    "\n",
    "# 정규식 표현법 정리\n",
    "\n",
    "#[자주 사용하는 문자 클래스]\n",
    "#[0-9] 또는 [a-zA-Z] 등은 무척 자주 사용하는 정규 표현식이다. 이렇게 자주 사용하는 정규식은 별도의 표기법으로 표현할 수 있다. 다음을 기억해 두자.\n",
    "\n",
    "#\\d - 숫자와 매치, [0-9]와 동일한 표현식이다.\n",
    "#\\D - 숫자가 아닌 것과 매치, [^0-9]와 동일한 표현식이다.\n",
    "#\\s - whitespace 문자와 매치, [ \\t\\n\\r\\f\\v]와 동일한 표현식이다. 맨 앞의 빈 칸은 공백문자(space)를 의미한다.\n",
    "#\\S - whitespace 문자가 아닌 것과 매치, [^ \\t\\n\\r\\f\\v]와 동일한 표현식이다.\n",
    "#\\w - 문자+숫자(alphanumeric)와 매치, [a-zA-Z0-9_]와 동일한 표현식이다.\n",
    "#\\W - 문자+숫자(alphanumeric)가 아닌 문자와 매치, [^a-zA-Z0-9_]와 동일한 표현식이다.\n",
    "#대문자로 사용된 것은 소문자의 반대임을 추측할 수 있다.\n",
    "\n",
    "#match()\t문자열의 처음부터 정규식과 매치되는지 조사한다.\n",
    "#search()\t문자열 전체를 검색하여 정규식과 매치되는지 조사한다.\n",
    "#findall()\t정규식과 매치되는 모든 문자열(substring)을 리스트로 돌려준다.\n",
    "#finditer()\t정규식과 매치되는 모든 문자열(substring)을 반복 가능한 객체로 돌려준다.\n",
    "\n",
    "#group()\t매치된 문자열을 돌려준다.\n",
    "#start()\t매치된 문자열의 시작 위치를 돌려준다.\n",
    "#end()\t매치된 문자열의 끝 위치를 돌려준다.\n",
    "#span()\t매치된 문자열의 (시작, 끝)에 해당하는 튜플을 돌려준다.\n",
    "\n",
    "\n",
    "\n",
    "\n",
    "#반복을 나타내는 또 다른 메타 문자로 +가 있다. +는 최소 1번 이상 반복될 때 사용한다. \n",
    "#즉 *가 반복 횟수 0부터라면 +는 반복 횟수 1부터인 것이다.\n",
    "\n",
    "#문자 클래스([ ]) 안에는 어떤 문자나 메타 문자도 사용할수 있지만 주의해야 할 메타 문자가 1가지 있다. \n",
    "#그것은 바로 ^인데, 문자 클래스 안에 ^ 메타 문자를 사용할 경우에는 반대(not)라는 의미를 갖는다. \n",
    "#예를 들어 [^0-9]라는 정규 표현식은 숫자가 아닌 문자만 매치된다.\n",
    "\n",
    "\n",
    "#반복은 아니지만 이와 비슷한 개념으로 ? 이 있다. ? 메타문자가 의미하는 것은 {0, 1} 이다.\n",
    "\n",
    "#다음 정규식을 보자.\n",
    "#ab?c\n",
    "#위 정규식의 의미는 다음과 같다:\n",
    "#\"a + b(있어도 되고 없어도 된다) + c\"\n"
   ]
  },
  {
   "cell_type": "code",
   "execution_count": 20,
   "id": "e3b1d1a0",
   "metadata": {},
   "outputs": [
    {
     "name": "stdout",
     "output_type": "stream",
     "text": [
      "['python one', 'python two', 'python three', 'python a3aa35192']\n",
      "['python one']\n"
     ]
    }
   ],
   "source": [
    "import re\n",
    "\n",
    "p = re.compile(\"^python\\s\\w+\", re.MULTILINE)\n",
    "\n",
    "data = \"\"\"python one\n",
    "life is too short\n",
    "python two\n",
    "you need python\n",
    "python three\n",
    "python a3aa35192\n",
    "\"\"\"\n",
    "\n",
    "print(p.findall(data))\n",
    "\n",
    "p = re.compile(\"^python\\s\\w+\")\n",
    "data = \"\"\"python one\n",
    "life is too short\n",
    "python two\n",
    "you need python\n",
    "python three\n",
    "\n",
    "\"\"\"\n",
    "\n",
    "print(p.findall(data))\n"
   ]
  },
  {
   "cell_type": "code",
   "execution_count": 25,
   "id": "00683c1d",
   "metadata": {},
   "outputs": [
    {
     "data": {
      "text/plain": [
       "re.compile(r'&[#](0[0-7]+|[0-9]+|x[0-9a-fA-F]+);', re.UNICODE|re.VERBOSE)"
      ]
     },
     "execution_count": 25,
     "metadata": {},
     "output_type": "execute_result"
    }
   ],
   "source": [
    "charref = re.compile(r'&[#](0[0-7]+|[0-9]+|x[0-9a-fA-F]+);', re.VERBOSE)\n",
    "\n",
    "charref"
   ]
  },
  {
   "cell_type": "code",
   "execution_count": 23,
   "id": "ccc72c66",
   "metadata": {},
   "outputs": [],
   "source": [
    "charref = re.compile(r\"\"\"\n",
    " &[#]                # Start of a numeric entity reference\n",
    " (\n",
    "     0[0-7]+         # Octal form\n",
    "   | [0-9]+          # Decimal form\n",
    "   | x[0-9a-fA-F]+   # Hexadecimal form\n",
    " )\n",
    " ;                   # Trailing semicolon\n",
    "\"\"\", re.VERBOSE)"
   ]
  },
  {
   "cell_type": "code",
   "execution_count": 35,
   "id": "f4994c3c",
   "metadata": {},
   "outputs": [
    {
     "name": "stdout",
     "output_type": "stream",
     "text": [
      "<html>\n"
     ]
    }
   ],
   "source": [
    "s = '<html><head><title>Title</title>'\n",
    "\n",
    "print(re.match('<.*?>', s).group())"
   ]
  },
  {
   "cell_type": "code",
   "execution_count": 71,
   "id": "20cfe112",
   "metadata": {},
   "outputs": [
    {
     "data": {
      "text/plain": [
       "'하이안녕하세요저는김형민이라고합니다.만나서반가워요'"
      ]
     },
     "execution_count": 71,
     "metadata": {},
     "output_type": "execute_result"
    }
   ],
   "source": [
    "#정규식을 사용하여 한글만 가져오기\n",
    "\n",
    "import re\n",
    "\n",
    "text = \"ㅋㅋㅋ 안녕하세요\"\n",
    "re.compile('[ |가-힣]+').sub('', text) # 한글과 띄어쓰기을 제외하고 모든 글자 (자음, 모음만 있는경우 제외)\n",
    "\n",
    "text_2 = \"하이 ㅋㅋㅋ 안녕하ㅏ세요 zzzz 저는 김문철이라고 합니다. 만나서 반가 ㅓ 워요 ㅎㅎ\"\n",
    "text_2 = re.sub('[|A-Za-z|]+', ' ', text_2)  #영문 제외\n",
    "\n",
    "text_3 = re.compile('[ |ㄱ-ㅎ|ㅏ-ㅣ]+').sub('',text_2) # 정규식에서 일치되는 부분을  제외하고 저장\n",
    "\n",
    "text_3"
   ]
  },
  {
   "cell_type": "code",
   "execution_count": 68,
   "id": "d0e77cd6",
   "metadata": {},
   "outputs": [
    {
     "data": {
      "text/plain": [
       "'하이 안녕하세요 저는 김형민이라고 합니다. 만나서 반가워요'"
      ]
     },
     "execution_count": 68,
     "metadata": {},
     "output_type": "execute_result"
    }
   ],
   "source": [
    "from hanspell import spell_checker\n",
    "\n",
    "result = spell_checker.check(text_3)\n",
    "result_check = result.as_dict()\n",
    "result_check['checked']"
   ]
  },
  {
   "cell_type": "code",
   "execution_count": 69,
   "id": "61c1a104",
   "metadata": {},
   "outputs": [
    {
     "data": {
      "text/plain": [
       "'abcdef가나다라마바사12345'"
      ]
     },
     "execution_count": 69,
     "metadata": {},
     "output_type": "execute_result"
    }
   ],
   "source": [
    "#문자(한글, 영문)와 숫자만 남기고 특수문자 제거하기\n",
    "\n",
    "import re\n",
    "\n",
    "string = \"abcdefㄱㄴㄷㄹㅁㅂ가나다라마바사12345[]{}().,!?'`~;:\"\n",
    "re.sub('[^A-Za-z0-9가-힣]', '', string)"
   ]
  },
  {
   "cell_type": "code",
   "execution_count": null,
   "id": "fde5935d",
   "metadata": {},
   "outputs": [],
   "source": []
  }
 ],
 "metadata": {
  "kernelspec": {
   "display_name": "Python 3 (ipykernel)",
   "language": "python",
   "name": "python3"
  },
  "language_info": {
   "codemirror_mode": {
    "name": "ipython",
    "version": 3
   },
   "file_extension": ".py",
   "mimetype": "text/x-python",
   "name": "python",
   "nbconvert_exporter": "python",
   "pygments_lexer": "ipython3",
   "version": "3.9.7"
  }
 },
 "nbformat": 4,
 "nbformat_minor": 5
}
