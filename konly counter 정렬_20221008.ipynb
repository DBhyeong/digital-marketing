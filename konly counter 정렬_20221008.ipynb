{
 "cells": [
  {
   "cell_type": "code",
   "execution_count": 1,
   "id": "da5f6acc",
   "metadata": {
    "scrolled": false
   },
   "outputs": [
    {
     "name": "stdout",
     "output_type": "stream",
     "text": [
      "부교감신경\n",
      "마름\n",
      "구강\n",
      "저하\n",
      "비량\n",
      "['부교감신경', '마름', '구강', '저하', '비량']\n"
     ]
    }
   ],
   "source": [
    "from konlpy.tag import Kkma, Okt, Komoran, Hannanum\n",
    "from konlpy.utils import pprint\n",
    "from collections import  Counter\n",
    "\n",
    "num = 2\n",
    "\n",
    "f = open (r\"C:\\Users\\user\\raw\\down\\down_foreveryunje_건강\\foreveryunje_4_입마름 가볍지 않은 증상.txt\", 'r', encoding='utf-8')\n",
    "\n",
    "\n",
    "text = f.read()\n",
    "\n",
    "\n",
    "okt = Okt()\n",
    "noun = okt.nouns(text)\n",
    "\n",
    "x = Counter(noun)\n",
    "\n",
    "x.most_common()  #가장 많은 빈도수 정렬\n",
    "\n",
    "x_most_common = sorted(x, key=x.get, reverse=True)  #가장 많은 단어만 리스트화\n",
    "\n",
    "\n",
    "x_most_common_2 = []\n",
    "#sorted(x.items(), key=lambda pair: pair[1], reverse=True)  #key, value 쌍으로만 값 정렬\n",
    "\n",
    "\n",
    "for i in x_most_common[:7] : #가장 많이 쓰인 상위 7개 단어 기준\n",
    "    if len(i) == 1 : #단어 1개인경우 제외\n",
    "        pass\n",
    "    else :\n",
    "        print(i) \n",
    "        x_most_common_2.append(i)\n",
    "print(x_most_common_2) #최종 5개 단어 보기"
   ]
  },
  {
   "cell_type": "code",
   "execution_count": null,
   "id": "30b311dd",
   "metadata": {},
   "outputs": [],
   "source": []
  }
 ],
 "metadata": {
  "kernelspec": {
   "display_name": "Python 3 (ipykernel)",
   "language": "python",
   "name": "python3"
  },
  "language_info": {
   "codemirror_mode": {
    "name": "ipython",
    "version": 3
   },
   "file_extension": ".py",
   "mimetype": "text/x-python",
   "name": "python",
   "nbconvert_exporter": "python",
   "pygments_lexer": "ipython3",
   "version": "3.9.7"
  }
 },
 "nbformat": 4,
 "nbformat_minor": 5
}
